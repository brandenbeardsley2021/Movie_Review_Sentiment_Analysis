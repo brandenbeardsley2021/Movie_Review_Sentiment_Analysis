{
 "cells": [
  {
   "cell_type": "code",
   "execution_count": 2,
   "id": "d96b2689",
   "metadata": {},
   "outputs": [
    {
     "data": {
      "text/plain": [
       "['labeledTrainData.tsv.zip',\n",
       " 'sampleSubmission.csv',\n",
       " 'testData.tsv.zip',\n",
       " 'unlabeledTrainData.tsv.zip']"
      ]
     },
     "execution_count": 2,
     "metadata": {},
     "output_type": "execute_result"
    }
   ],
   "source": [
    "import zipfile\n",
    "import pandas as pd\n",
    "import os\n",
    "\n",
    "# File path\n",
    "zip_file_path = 'word2vec-nlp-tutorial.zip'\n",
    "extract_folder_path = 'word2vec-nlp-tutorial'\n",
    "\n",
    "# Extracting the zip file\n",
    "with zipfile.ZipFile(zip_file_path, 'r') as zip_ref:\n",
    "    zip_ref.extractall(extract_folder_path)\n",
    "\n",
    "# Listing extracted files\n",
    "extracted_files = os.listdir(extract_folder_path)\n",
    "extracted_files"
   ]
  },
  {
   "cell_type": "code",
   "execution_count": 3,
   "id": "ae1b3b18",
   "metadata": {},
   "outputs": [
    {
     "data": {
      "text/html": [
       "<div>\n",
       "<style scoped>\n",
       "    .dataframe tbody tr th:only-of-type {\n",
       "        vertical-align: middle;\n",
       "    }\n",
       "\n",
       "    .dataframe tbody tr th {\n",
       "        vertical-align: top;\n",
       "    }\n",
       "\n",
       "    .dataframe thead th {\n",
       "        text-align: right;\n",
       "    }\n",
       "</style>\n",
       "<table border=\"1\" class=\"dataframe\">\n",
       "  <thead>\n",
       "    <tr style=\"text-align: right;\">\n",
       "      <th></th>\n",
       "      <th>id</th>\n",
       "      <th>sentiment</th>\n",
       "      <th>review</th>\n",
       "    </tr>\n",
       "  </thead>\n",
       "  <tbody>\n",
       "    <tr>\n",
       "      <th>0</th>\n",
       "      <td>5814_8</td>\n",
       "      <td>1</td>\n",
       "      <td>With all this stuff going down at the moment w...</td>\n",
       "    </tr>\n",
       "    <tr>\n",
       "      <th>1</th>\n",
       "      <td>2381_9</td>\n",
       "      <td>1</td>\n",
       "      <td>\\The Classic War of the Worlds\\\" by Timothy Hi...</td>\n",
       "    </tr>\n",
       "    <tr>\n",
       "      <th>2</th>\n",
       "      <td>7759_3</td>\n",
       "      <td>0</td>\n",
       "      <td>The film starts with a manager (Nicholas Bell)...</td>\n",
       "    </tr>\n",
       "    <tr>\n",
       "      <th>3</th>\n",
       "      <td>3630_4</td>\n",
       "      <td>0</td>\n",
       "      <td>It must be assumed that those who praised this...</td>\n",
       "    </tr>\n",
       "    <tr>\n",
       "      <th>4</th>\n",
       "      <td>9495_8</td>\n",
       "      <td>1</td>\n",
       "      <td>Superbly trashy and wondrously unpretentious 8...</td>\n",
       "    </tr>\n",
       "  </tbody>\n",
       "</table>\n",
       "</div>"
      ],
      "text/plain": [
       "       id  sentiment                                             review\n",
       "0  5814_8          1  With all this stuff going down at the moment w...\n",
       "1  2381_9          1  \\The Classic War of the Worlds\\\" by Timothy Hi...\n",
       "2  7759_3          0  The film starts with a manager (Nicholas Bell)...\n",
       "3  3630_4          0  It must be assumed that those who praised this...\n",
       "4  9495_8          1  Superbly trashy and wondrously unpretentious 8..."
      ]
     },
     "execution_count": 3,
     "metadata": {},
     "output_type": "execute_result"
    }
   ],
   "source": [
    "# It seems like the relevant file is 'labeledTrainData.tsv'\n",
    "# Let's load this data and take a look at it\n",
    "\n",
    "data_file_path = os.path.join(extract_folder_path, 'labeledTrainData.tsv.zip')\n",
    "\n",
    "# Load the data into a DataFrame\n",
    "movie_reviews = pd.read_csv(data_file_path, delimiter='\\t')\n",
    "\n",
    "# Display the first few rows of the DataFrame\n",
    "movie_reviews.head()"
   ]
  },
  {
   "cell_type": "markdown",
   "id": "16a1bd0c",
   "metadata": {},
   "source": [
    "The movie review data has been successfully loaded into a DataFrame. It consists of three columns: 'id', 'sentiment', and 'review'. The 'sentiment' column indicates whether a review is positive (1) or negative (0)."
   ]
  },
  {
   "cell_type": "code",
   "execution_count": 4,
   "id": "ff501826",
   "metadata": {},
   "outputs": [
    {
     "data": {
      "text/plain": [
       "(12500, 12500)"
      ]
     },
     "execution_count": 4,
     "metadata": {},
     "output_type": "execute_result"
    }
   ],
   "source": [
    "# Counting the number of positive and negative reviews\n",
    "review_counts = movie_reviews['sentiment'].value_counts()\n",
    "positive_reviews = review_counts.get(1, 0)\n",
    "negative_reviews = review_counts.get(0, 0)\n",
    "\n",
    "positive_reviews, negative_reviews"
   ]
  },
  {
   "cell_type": "code",
   "execution_count": 5,
   "id": "b84db467",
   "metadata": {},
   "outputs": [
    {
     "data": {
      "text/html": [
       "<div>\n",
       "<style scoped>\n",
       "    .dataframe tbody tr th:only-of-type {\n",
       "        vertical-align: middle;\n",
       "    }\n",
       "\n",
       "    .dataframe tbody tr th {\n",
       "        vertical-align: top;\n",
       "    }\n",
       "\n",
       "    .dataframe thead th {\n",
       "        text-align: right;\n",
       "    }\n",
       "</style>\n",
       "<table border=\"1\" class=\"dataframe\">\n",
       "  <thead>\n",
       "    <tr style=\"text-align: right;\">\n",
       "      <th></th>\n",
       "      <th>id</th>\n",
       "      <th>sentiment</th>\n",
       "      <th>review</th>\n",
       "      <th>predicted_sentiment</th>\n",
       "    </tr>\n",
       "  </thead>\n",
       "  <tbody>\n",
       "    <tr>\n",
       "      <th>0</th>\n",
       "      <td>5814_8</td>\n",
       "      <td>1</td>\n",
       "      <td>With all this stuff going down at the moment w...</td>\n",
       "      <td>1</td>\n",
       "    </tr>\n",
       "    <tr>\n",
       "      <th>1</th>\n",
       "      <td>2381_9</td>\n",
       "      <td>1</td>\n",
       "      <td>\\The Classic War of the Worlds\\\" by Timothy Hi...</td>\n",
       "      <td>1</td>\n",
       "    </tr>\n",
       "    <tr>\n",
       "      <th>2</th>\n",
       "      <td>7759_3</td>\n",
       "      <td>0</td>\n",
       "      <td>The film starts with a manager (Nicholas Bell)...</td>\n",
       "      <td>0</td>\n",
       "    </tr>\n",
       "    <tr>\n",
       "      <th>3</th>\n",
       "      <td>3630_4</td>\n",
       "      <td>0</td>\n",
       "      <td>It must be assumed that those who praised this...</td>\n",
       "      <td>1</td>\n",
       "    </tr>\n",
       "    <tr>\n",
       "      <th>4</th>\n",
       "      <td>9495_8</td>\n",
       "      <td>1</td>\n",
       "      <td>Superbly trashy and wondrously unpretentious 8...</td>\n",
       "      <td>0</td>\n",
       "    </tr>\n",
       "  </tbody>\n",
       "</table>\n",
       "</div>"
      ],
      "text/plain": [
       "       id  sentiment                                             review  \\\n",
       "0  5814_8          1  With all this stuff going down at the moment w...   \n",
       "1  2381_9          1  \\The Classic War of the Worlds\\\" by Timothy Hi...   \n",
       "2  7759_3          0  The film starts with a manager (Nicholas Bell)...   \n",
       "3  3630_4          0  It must be assumed that those who praised this...   \n",
       "4  9495_8          1  Superbly trashy and wondrously unpretentious 8...   \n",
       "\n",
       "   predicted_sentiment  \n",
       "0                    1  \n",
       "1                    1  \n",
       "2                    0  \n",
       "3                    1  \n",
       "4                    0  "
      ]
     },
     "execution_count": 5,
     "metadata": {},
     "output_type": "execute_result"
    }
   ],
   "source": [
    "from textblob import TextBlob\n",
    "\n",
    "# Function to classify sentiment using TextBlob\n",
    "def classify_review_sentiment(review):\n",
    "    analysis = TextBlob(review)\n",
    "    # Assuming polarity >= 0 is positive, and < 0 is negative\n",
    "    return 1 if analysis.sentiment.polarity >= 0 else 0\n",
    "\n",
    "# Applying the function to each review\n",
    "movie_reviews['predicted_sentiment'] = movie_reviews['review'].apply(classify_review_sentiment)\n",
    "\n",
    "# Checking the first few rows to see the predicted sentiment\n",
    "movie_reviews.head()"
   ]
  },
  {
   "cell_type": "code",
   "execution_count": 9,
   "id": "54f20c4a",
   "metadata": {},
   "outputs": [
    {
     "name": "stdout",
     "output_type": "stream",
     "text": [
      "Accuracy of TextBlob Sentiment Classifier: 0.68524\n"
     ]
    }
   ],
   "source": [
    "from sklearn.metrics import accuracy_score\n",
    "\n",
    "# Actual sentiments from the dataset\n",
    "actual_sentiments = movie_reviews['sentiment']\n",
    "\n",
    "# Predicted sentiments using TextBlob\n",
    "predicted_sentiments = movie_reviews['predicted_sentiment']\n",
    "\n",
    "# Calculating the accuracy\n",
    "accuracy = accuracy_score(actual_sentiments, predicted_sentiments)\n",
    "print(\"Accuracy of TextBlob Sentiment Classifier:\", accuracy)"
   ]
  },
  {
   "cell_type": "markdown",
   "id": "487a42db",
   "metadata": {},
   "source": [
    "The accuracy of the sentiment analysis model using TextBlob is approximately 68.52%. This is significantly better than random guessing, which would have an expected accuracy of about 50% for a balanced dataset like this one (with an equal number of positive and negative reviews).\n",
    "\n",
    "Next, we can use another prebuilt text sentiment analyzer, such as VADER (Valence Aware Dictionary and sEntiment Reasoner), to compare its performance with TextBlob. Let's proceed with applying VADER to the movie reviews."
   ]
  },
  {
   "cell_type": "code",
   "execution_count": 6,
   "id": "3498c554",
   "metadata": {},
   "outputs": [
    {
     "name": "stdout",
     "output_type": "stream",
     "text": [
      "Requirement already satisfied: vaderSentiment in c:\\users\\brand\\anaconda3\\lib\\site-packages (3.3.2)\n",
      "Requirement already satisfied: requests in c:\\users\\brand\\anaconda3\\lib\\site-packages (from vaderSentiment) (2.31.0)\n",
      "Requirement already satisfied: charset-normalizer<4,>=2 in c:\\users\\brand\\anaconda3\\lib\\site-packages (from requests->vaderSentiment) (2.0.4)\n",
      "Requirement already satisfied: idna<4,>=2.5 in c:\\users\\brand\\anaconda3\\lib\\site-packages (from requests->vaderSentiment) (3.4)\n",
      "Requirement already satisfied: urllib3<3,>=1.21.1 in c:\\users\\brand\\anaconda3\\lib\\site-packages (from requests->vaderSentiment) (1.26.16)\n",
      "Requirement already satisfied: certifi>=2017.4.17 in c:\\users\\brand\\anaconda3\\lib\\site-packages (from requests->vaderSentiment) (2023.7.22)\n",
      "Note: you may need to restart the kernel to use updated packages.\n"
     ]
    }
   ],
   "source": [
    "pip install vaderSentiment"
   ]
  },
  {
   "cell_type": "code",
   "execution_count": 10,
   "id": "384e4dd7",
   "metadata": {},
   "outputs": [
    {
     "name": "stdout",
     "output_type": "stream",
     "text": [
      "Accuracy of VADER Sentiment Classifier: 0.69404\n"
     ]
    }
   ],
   "source": [
    "from vaderSentiment.vaderSentiment import SentimentIntensityAnalyzer\n",
    "from sklearn.metrics import accuracy_score  # Importing accuracy_score\n",
    "\n",
    "# Initializing VADER sentiment analyzer\n",
    "analyzer = SentimentIntensityAnalyzer()\n",
    "\n",
    "# Function to classify sentiment using VADER\n",
    "def classify_review_sentiment_vader(review):\n",
    "    vs = analyzer.polarity_scores(review)\n",
    "    # Assuming compound score >= 0 is positive, and < 0 is negative\n",
    "    return 1 if vs['compound'] >= 0 else 0\n",
    "\n",
    "# Applying the function to each review\n",
    "movie_reviews['predicted_sentiment_vader'] = movie_reviews['review'].apply(classify_review_sentiment_vader)\n",
    "\n",
    "# Calculating the accuracy of the VADER sentiment analysis\n",
    "accuracy_vader = accuracy_score(movie_reviews['sentiment'], movie_reviews['predicted_sentiment_vader'])\n",
    "print(\"Accuracy of VADER Sentiment Classifier:\", accuracy_vader)"
   ]
  },
  {
   "cell_type": "markdown",
   "id": "5e39ba32",
   "metadata": {},
   "source": [
    "## Part 2: Prepping Text for a Custom Model"
   ]
  },
  {
   "cell_type": "code",
   "execution_count": 14,
   "id": "7af4dff4",
   "metadata": {},
   "outputs": [
    {
     "name": "stderr",
     "output_type": "stream",
     "text": [
      "[nltk_data] Downloading package stopwords to\n",
      "[nltk_data]     C:\\Users\\brand\\AppData\\Roaming\\nltk_data...\n",
      "[nltk_data]   Unzipping corpora\\stopwords.zip.\n",
      "[nltk_data] Downloading package punkt to\n",
      "[nltk_data]     C:\\Users\\brand\\AppData\\Roaming\\nltk_data...\n",
      "[nltk_data]   Unzipping tokenizers\\punkt.zip.\n"
     ]
    },
    {
     "name": "stdout",
     "output_type": "stream",
     "text": [
      "Bag-of-Words Matrix Shape: (25000, 89468)\n",
      "TF-IDF Matrix Shape: (25000, 89468)\n"
     ]
    }
   ],
   "source": [
    "import pandas as pd\n",
    "import re\n",
    "import nltk\n",
    "from nltk.corpus import stopwords\n",
    "from nltk.stem import PorterStemmer\n",
    "from sklearn.feature_extraction.text import CountVectorizer, TfidfVectorizer\n",
    "\n",
    "# Load the data into a DataFrame (replace the file path with the correct one on your system)\n",
    "data_file_path = 'labeledTrainData.tsv'\n",
    "movie_reviews = pd.read_csv(data_file_path, delimiter='\\t')\n",
    "\n",
    "# Download necessary NLTK data\n",
    "nltk.download('stopwords')\n",
    "nltk.download('punkt')\n",
    "\n",
    "# Preprocessing steps\n",
    "# 1. Convert text to lowercase\n",
    "movie_reviews['review_cleaned'] = movie_reviews['review'].str.lower()\n",
    "\n",
    "# 2. Remove punctuation and special characters\n",
    "movie_reviews['review_cleaned'] = movie_reviews['review_cleaned'].apply(lambda x: re.sub(r'[^a-z\\s]', '', x))\n",
    "\n",
    "# 3. Remove stop words\n",
    "stop_words = set(stopwords.words('english'))\n",
    "movie_reviews['review_cleaned'] = movie_reviews['review_cleaned'].apply(lambda x: ' '.join([word for word in x.split() if word not in stop_words]))\n",
    "\n",
    "# 4. Apply NLTK’s PorterStemmer\n",
    "stemmer = PorterStemmer()\n",
    "movie_reviews['review_cleaned'] = movie_reviews['review_cleaned'].apply(lambda x: ' '.join([stemmer.stem(word) for word in x.split()]))\n",
    "\n",
    "# 5. Create a bag-of-words matrix\n",
    "vectorizer_bow = CountVectorizer()\n",
    "bow_matrix = vectorizer_bow.fit_transform(movie_reviews['review_cleaned'])\n",
    "\n",
    "# 6. Create a tf-idf matrix\n",
    "vectorizer_tfidf = TfidfVectorizer()\n",
    "tfidf_matrix = vectorizer_tfidf.fit_transform(movie_reviews['review_cleaned'])\n",
    "\n",
    "# Display the dimensions of the matrices\n",
    "print('Bag-of-Words Matrix Shape:', bow_matrix.shape)\n",
    "print('TF-IDF Matrix Shape:', tfidf_matrix.shape)\n"
   ]
  },
  {
   "cell_type": "code",
   "execution_count": null,
   "id": "af6bcdb5",
   "metadata": {},
   "outputs": [],
   "source": []
  }
 ],
 "metadata": {
  "kernelspec": {
   "display_name": "Python 3 (ipykernel)",
   "language": "python",
   "name": "python3"
  },
  "language_info": {
   "codemirror_mode": {
    "name": "ipython",
    "version": 3
   },
   "file_extension": ".py",
   "mimetype": "text/x-python",
   "name": "python",
   "nbconvert_exporter": "python",
   "pygments_lexer": "ipython3",
   "version": "3.11.5"
  }
 },
 "nbformat": 4,
 "nbformat_minor": 5
}
